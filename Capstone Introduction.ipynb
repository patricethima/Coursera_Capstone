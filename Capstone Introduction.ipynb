{
 "cells": [
  {
   "cell_type": "markdown",
   "metadata": {},
   "source": [
    "# Hello this notebook is the ultimate notebook.\n",
    "## I will mainly use it for my Capstone project, it represent many hours of courses and work.\n"
   ]
  },
  {
   "cell_type": "code",
   "execution_count": 2,
   "metadata": {},
   "outputs": [],
   "source": [
    "import pandas as pd\n",
    "import numpy as np\n",
    "import matplotlib.pyplot as plt\n",
    "import matplotlib as mpl "
   ]
  },
  {
   "cell_type": "code",
   "execution_count": 3,
   "metadata": {},
   "outputs": [
    {
     "name": "stdout",
     "output_type": "stream",
     "text": [
      "Hello Capstone Project Course!\n"
     ]
    }
   ],
   "source": [
    "print(\"Hello Capstone Project Course!\")"
   ]
  },
  {
   "cell_type": "markdown",
   "metadata": {},
   "source": [
    "# Introduction/Business Problem"
   ]
  },
  {
   "cell_type": "markdown",
   "metadata": {},
   "source": [
    "### Every year, about 34 thousand people are killed in traffic accident in the US roads, 2 million are injured. There are very many causes cell phone while driving, vision obscured, black out, alcohol and many more.\n",
    "### The consequences are numerous,economic cost,suffering for the family,physical and psychological trauma for victims... In this way, many decisions have been made, these decisions are political, technological, educational.\n",
    "### In 2020 the roads are better, the cars have better safety features, the people are more conscientious and the law is more convincing as well as the highway code more adapted. But today the road still causes many victims. How to reduce accidents and their severity? We will try to understand and predict the risk of having an accident in another word to answer this next question. What is the possibility of having a car accident and how severe would it be?\n",
    "\n"
   ]
  }
 ],
 "metadata": {
  "kernelspec": {
   "display_name": "Python",
   "language": "python",
   "name": "conda-env-python-py"
  },
  "language_info": {
   "codemirror_mode": {
    "name": "ipython",
    "version": 3
   },
   "file_extension": ".py",
   "mimetype": "text/x-python",
   "name": "python",
   "nbconvert_exporter": "python",
   "pygments_lexer": "ipython3",
   "version": "3.6.11"
  }
 },
 "nbformat": 4,
 "nbformat_minor": 4
}
